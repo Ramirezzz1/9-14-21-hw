{
 "cells": [
  {
   "cell_type": "markdown",
   "metadata": {},
   "source": [
    "# Algorithms, Binary Search & Linked Lists"
   ]
  },
  {
   "cell_type": "markdown",
   "metadata": {},
   "source": [
    "## Tasks Today:\n",
    " \n",
    "1) <b>In-Place Algorithms</b> <br>\n",
    " &nbsp;&nbsp;&nbsp;&nbsp; a) Syntax <br>\n",
    " &nbsp;&nbsp;&nbsp;&nbsp; a) Out of Place Algorithm <br>\n",
    " &nbsp;&nbsp;&nbsp;&nbsp; b) In-Class Exercise #1 <br>\n",
    "2) <b>Two Pointers</b> <br>\n",
    "3) <b>Linked Lists</b> <br>\n",
    "4) <b>Merge Sort</b> <br>\n",
    " &nbsp;&nbsp;&nbsp;&nbsp; a) Video on Algorithms <br>\n",
    " &nbsp;&nbsp;&nbsp;&nbsp; b) How it Works <br>\n",
    "5) <b>Exercises</b> <br>\n",
    " &nbsp;&nbsp;&nbsp;&nbsp; a) Exercise #1 - Reverse a List in Place Using an In-Place Algorithm <br>\n",
    " &nbsp;&nbsp;&nbsp;&nbsp; b) Exercise #2 - Find Distinct Words <br>\n",
    " &nbsp;&nbsp;&nbsp;&nbsp; c) Exercise #3 - Write a program to implement a Linear Search Algorithm. <br>"
   ]
  },
  {
   "cell_type": "markdown",
   "metadata": {},
   "source": [
    "## In-Place Algorithms"
   ]
  },
  {
   "cell_type": "markdown",
   "metadata": {},
   "source": [
    "#### Syntax"
   ]
  },
  {
   "cell_type": "code",
   "execution_count": null,
   "metadata": {},
   "outputs": [],
   "source": [
    "animals = ['Platypus','Echidna', 'Tasmanian tiger', 'wallaby']\n",
    "\n",
    "def copyswapper(a_list, index_a, index_b):\n",
    "    answer = a_list[:]\n",
    "    answer[index_a], answer[index_b]= answer[index_b], answer[index_a]\n",
    "    return answer \n",
    "\n",
    "print(animals)\n",
    "swappendanimals = copyswapper(animals, 0, 2)\n",
    "print(swappendanimals"
   ]
  },
  {
   "cell_type": "markdown",
   "metadata": {},
   "source": [
    "#### Out of Place Algorithm"
   ]
  },
  {
   "cell_type": "code",
   "execution_count": null,
   "metadata": {},
   "outputs": [],
   "source": [
    "\n"
   ]
  },
  {
   "cell_type": "markdown",
   "metadata": {},
   "source": [
    "#### In-Class Exercise #1 <br>\n",
    "<p>Write a function that takes in four arguments (list, index1, index2, index3), and swaps those three positions in the list passed in.</p>"
   ]
  },
  {
   "cell_type": "code",
   "execution_count": 25,
   "metadata": {},
   "outputs": [
    {
     "name": "stdout",
     "output_type": "stream",
     "text": [
      "[10, 4, 3, 8, 4, 2, 6]\n"
     ]
    },
    {
     "ename": "NameError",
     "evalue": "name 'newlist' is not defined",
     "output_type": "error",
     "traceback": [
      "\u001b[1;31m---------------------------------------------------------------------------\u001b[0m",
      "\u001b[1;31mNameError\u001b[0m                                 Traceback (most recent call last)",
      "\u001b[1;32m<ipython-input-25-57efc64c31a4>\u001b[0m in \u001b[0;36m<module>\u001b[1;34m\u001b[0m\n\u001b[0;32m     19\u001b[0m \u001b[1;33m\u001b[0m\u001b[0m\n\u001b[0;32m     20\u001b[0m \u001b[0mprint\u001b[0m\u001b[1;33m(\u001b[0m\u001b[0ml_1\u001b[0m\u001b[1;33m)\u001b[0m\u001b[1;33m\u001b[0m\u001b[1;33m\u001b[0m\u001b[0m\n\u001b[1;32m---> 21\u001b[1;33m \u001b[0mswap\u001b[0m\u001b[1;33m(\u001b[0m\u001b[0ml_1\u001b[0m\u001b[1;33m,\u001b[0m \u001b[1;36m0\u001b[0m\u001b[1;33m,\u001b[0m \u001b[1;36m3\u001b[0m\u001b[1;33m,\u001b[0m \u001b[1;33m-\u001b[0m\u001b[1;36m1\u001b[0m\u001b[1;33m)\u001b[0m\u001b[1;33m\u001b[0m\u001b[1;33m\u001b[0m\u001b[0m\n\u001b[0m\u001b[0;32m     22\u001b[0m \u001b[1;33m\u001b[0m\u001b[0m\n\u001b[0;32m     23\u001b[0m \u001b[1;33m\u001b[0m\u001b[0m\n",
      "\u001b[1;32m<ipython-input-25-57efc64c31a4>\u001b[0m in \u001b[0;36mswap\u001b[1;34m(some_list, i1, i2, i3)\u001b[0m\n\u001b[0;32m     11\u001b[0m \u001b[1;33m\u001b[0m\u001b[0m\n\u001b[0;32m     12\u001b[0m \u001b[1;32mdef\u001b[0m \u001b[0mswap\u001b[0m\u001b[1;33m(\u001b[0m\u001b[0msome_list\u001b[0m\u001b[1;33m,\u001b[0m \u001b[0mi1\u001b[0m\u001b[1;33m,\u001b[0m \u001b[0mi2\u001b[0m\u001b[1;33m,\u001b[0m \u001b[0mi3\u001b[0m\u001b[1;33m)\u001b[0m\u001b[1;33m:\u001b[0m\u001b[1;33m\u001b[0m\u001b[1;33m\u001b[0m\u001b[0m\n\u001b[1;32m---> 13\u001b[1;33m     \u001b[0msome_list\u001b[0m\u001b[1;33m[\u001b[0m\u001b[0mi1\u001b[0m\u001b[1;33m]\u001b[0m\u001b[1;33m,\u001b[0m \u001b[0msome_list\u001b[0m\u001b[1;33m[\u001b[0m\u001b[0mi2\u001b[0m\u001b[1;33m]\u001b[0m\u001b[1;33m,\u001b[0m \u001b[0msome_list\u001b[0m\u001b[1;33m[\u001b[0m\u001b[0mi2\u001b[0m\u001b[1;33m]\u001b[0m\u001b[1;33m,\u001b[0m \u001b[0msome_list\u001b[0m\u001b[1;33m[\u001b[0m\u001b[0mi3\u001b[0m\u001b[1;33m]\u001b[0m \u001b[1;33m=\u001b[0m \u001b[0mnewlist\u001b[0m\u001b[1;33m[\u001b[0m\u001b[0mi3\u001b[0m\u001b[1;33m]\u001b[0m\u001b[1;33m,\u001b[0m \u001b[0mnewlist\u001b[0m\u001b[1;33m[\u001b[0m\u001b[0mi1\u001b[0m\u001b[1;33m]\u001b[0m\u001b[1;33m,\u001b[0m \u001b[0msome_list\u001b[0m\u001b[1;33m[\u001b[0m\u001b[0mi2\u001b[0m\u001b[1;33m]\u001b[0m\u001b[1;33m\u001b[0m\u001b[1;33m\u001b[0m\u001b[0m\n\u001b[0m\u001b[0;32m     14\u001b[0m \u001b[1;33m\u001b[0m\u001b[0m\n\u001b[0;32m     15\u001b[0m \u001b[1;32mdef\u001b[0m \u001b[0mcopyswap\u001b[0m\u001b[1;33m(\u001b[0m\u001b[0msome_list\u001b[0m\u001b[1;33m,\u001b[0m \u001b[0mi1\u001b[0m\u001b[1;33m,\u001b[0m \u001b[0mi2\u001b[0m\u001b[1;33m,\u001b[0m \u001b[0mi3\u001b[0m\u001b[1;33m)\u001b[0m\u001b[1;33m:\u001b[0m\u001b[1;33m\u001b[0m\u001b[1;33m\u001b[0m\u001b[0m\n",
      "\u001b[1;31mNameError\u001b[0m: name 'newlist' is not defined"
     ]
    }
   ],
   "source": [
    "l_1 = [10, 4, 3, 8, 4, 2, 6]\n",
    "\n",
    "# def swapper(l_1,index1,index2,index3):\n",
    "#     solution = l_1[:]\n",
    "#     solution[index1],[index2],[index3] = solution[index3],[index1],[index2]\n",
    "#     return solution\n",
    "\n",
    "# print(l_1)\n",
    "# l_1swapped = swapper(l_1,1,2,3) #out of place\n",
    "# print(l_1swapped)\n",
    "\n",
    "def swap(some_list, i1, i2, i3):\n",
    "    some_list[i1], some_list[i2], some_list[i2], some_list[i3] = newlist[i3], newlist[i1], some_list[i2]\n",
    "    \n",
    "def copyswap(some_list, i1, i2, i3):\n",
    "    newlist = some_list[:]\n",
    "    newlist[i1], newlist[i2], newlist[i3] = newlist[i3], newlist[i1], newlist[i2]\n",
    "    return newlist\n",
    "\n",
    "print(l_1)\n",
    "swap(l_1, 0, 3, -1)\n",
    "\n",
    "\n",
    "\n"
   ]
  },
  {
   "cell_type": "code",
   "execution_count": 26,
   "metadata": {},
   "outputs": [
    {
     "name": "stdout",
     "output_type": "stream",
     "text": [
      "['Platypus', 'Echidna', 'Tasmanian tiger', 'wallaby']\n",
      "['wallaby', 'Tasmanian tiger', 'Echidna', 'Platypus']\n"
     ]
    }
   ],
   "source": [
    "reversedcopy = animals [::-1]\n",
    "print(animals)\n",
    "print(reversedcopy)"
   ]
  },
  {
   "cell_type": "markdown",
   "metadata": {},
   "source": [
    "## Two Pointers"
   ]
  },
  {
   "cell_type": "code",
   "execution_count": 29,
   "metadata": {},
   "outputs": [
    {
     "name": "stdout",
     "output_type": "stream",
     "text": [
      "left:0, right -1| ['fennec fox', 'porpoise', 'moon bear', 'marine iguana', 'eleephant', 'flamingo']\n",
      "left:1, right -2| ['flamingo', 'porpoise', 'moon bear', 'marine iguana', 'eleephant', 'fennec fox']\n",
      "left:2, right -3| ['flamingo', 'eleephant', 'moon bear', 'marine iguana', 'porpoise', 'fennec fox']\n",
      "left:3, right: -4 | ['flamingo', 'eleephant', 'marine iguana', 'moon bear', 'porpoise', 'fennec fox']\n",
      "['flamingo', 'eleephant', 'marine iguana', 'moon bear', 'porpoise', 'fennec fox']\n"
     ]
    }
   ],
   "source": [
    "my_list= ['fennec fox', 'porpoise', 'moon bear', 'marine iguana','eleephant', 'flamingo']\n",
    "\n",
    "def pointerreverse(some_list):\n",
    "    left = 0\n",
    "    right=-1\n",
    "    while left <len(some_list)//2:\n",
    "        print(f'left:{left}, right {right}| {some_list}')\n",
    "        some_list[left], some_list[right] = some_list[right], some_list[left]\n",
    "        left +=1\n",
    "        right-=1\n",
    "    print(f'left:{left}, right: {right} | {some_list}')\n",
    "    \n",
    "pointerreverse(my_list)\n",
    "print(my_list)\n",
    "    "
   ]
  },
  {
   "cell_type": "markdown",
   "metadata": {},
   "source": [
    "#### Syntax"
   ]
  },
  {
   "cell_type": "code",
   "execution_count": null,
   "metadata": {},
   "outputs": [],
   "source": []
  },
  {
   "cell_type": "markdown",
   "metadata": {},
   "source": [
    "#### Video of Algorithms <br>\n",
    "<p>Watch the video about algorithms.</p>\n",
    "\n",
    "https://www.youtube.com/watch?v=Q9HjeFD62Uk\n",
    "\n",
    "https://www.youtube.com/watch?v=kPRA0W1kECg\n",
    "\n",
    "https://www.youtube.com/watch?v=ZZuD6iUe3Pc"
   ]
  },
  {
   "cell_type": "markdown",
   "metadata": {},
   "source": [
    "# Sorting Algorithms"
   ]
  },
  {
   "cell_type": "markdown",
   "metadata": {},
   "source": [
    "#### Bubble Sort\n",
    "\n",
    "Worst Case: O(n^2) Time - O(1) Space"
   ]
  },
  {
   "cell_type": "code",
   "execution_count": 37,
   "metadata": {},
   "outputs": [
    {
     "name": "stdout",
     "output_type": "stream",
     "text": [
      "top of while loop \n",
      "\n",
      "checking array [0] vs .arry [1] | 30 vs. 21\n",
      "swapping\n",
      "checking array [1] vs .arry [2] | 30 vs. 38\n",
      "checking array [2] vs .arry [3] | 38 vs. 4\n",
      "swapping\n",
      "checking array [3] vs .arry [4] | 38 vs. 77\n",
      "checking array [4] vs .arry [5] | 77 vs. 345\n",
      "top of while loop \n",
      "\n",
      "checking array [0] vs .arry [1] | 21 vs. 30\n",
      "checking array [1] vs .arry [2] | 30 vs. 4\n",
      "swapping\n",
      "checking array [2] vs .arry [3] | 30 vs. 38\n",
      "checking array [3] vs .arry [4] | 38 vs. 77\n",
      "checking array [4] vs .arry [5] | 77 vs. 345\n",
      "top of while loop \n",
      "\n",
      "checking array [0] vs .arry [1] | 21 vs. 4\n",
      "swapping\n",
      "checking array [1] vs .arry [2] | 21 vs. 30\n",
      "checking array [2] vs .arry [3] | 30 vs. 38\n",
      "checking array [3] vs .arry [4] | 38 vs. 77\n",
      "checking array [4] vs .arry [5] | 77 vs. 345\n",
      "top of while loop \n",
      "\n",
      "checking array [0] vs .arry [1] | 4 vs. 21\n",
      "checking array [1] vs .arry [2] | 21 vs. 30\n",
      "checking array [2] vs .arry [3] | 30 vs. 38\n",
      "checking array [3] vs .arry [4] | 38 vs. 77\n",
      "checking array [4] vs .arry [5] | 77 vs. 345\n"
     ]
    },
    {
     "data": {
      "text/plain": [
       "[4, 21, 30, 38, 77, 345]"
      ]
     },
     "execution_count": 37,
     "metadata": {},
     "output_type": "execute_result"
    }
   ],
   "source": [
    "def swap (arr, i , j):\n",
    "    arr[i], arr[j] =  arr[j], arr[i]\n",
    "    \n",
    "def buublesort(array):\n",
    "    isSorted = False\n",
    "    while not isSorted:\n",
    "        print('top of while loop \\n')\n",
    "        isSorted = True\n",
    "        for i in range(len(array)-1):\n",
    "            print(f'checking array [{i}] vs .arry [{i+1}] | {array[i]} vs. {array[i+1]}')\n",
    "            if array[i]> array[i+1]:\n",
    "                  print('swapping')\n",
    "                  swap(array, i, i+1)\n",
    "                  isSorted = False\n",
    "                \n",
    "my_list = [30, 21, 38,4 ,77 ,345]\n",
    "buublesort(my_list)\n",
    "my_list"
   ]
  },
  {
   "cell_type": "markdown",
   "metadata": {},
   "source": [
    "##### Insertion Sort\n",
    "\n",
    "Worst Case: O(n^2) time - O(1)space"
   ]
  },
  {
   "cell_type": "code",
   "execution_count": 41,
   "metadata": {},
   "outputs": [
    {
     "name": "stdout",
     "output_type": "stream",
     "text": [
      "current i value:1, creating a new j value\n",
      "checking array [1] vs .arry [2] | 21 vs. 38\n",
      "current i value:2, creating a new j value\n",
      "current i value:3, creating a new j value\n",
      "checking array [3] vs .arry [4] | 4 vs. 77\n",
      "checking array [2] vs .arry [3] | 4 vs. 38\n",
      "checking array [1] vs .arry [2] | 4 vs. 30\n",
      "current i value:4, creating a new j value\n",
      "current i value:5, creating a new j value\n"
     ]
    },
    {
     "data": {
      "text/plain": [
       "[4, 21, 30, 38, 77, 345]"
      ]
     },
     "execution_count": 41,
     "metadata": {},
     "output_type": "execute_result"
    }
   ],
   "source": [
    "def swap (arr, i , j):\n",
    "    arr[i], arr[j] =  arr[j], arr[i]\n",
    "    \n",
    "def insertionSort(array):\n",
    "    for i in range(1,len(array)):\n",
    "        print(f'current i value:{i}, creating a new j value')\n",
    "        #pointer to use with the while loop\n",
    "        j= i \n",
    "        while j>0 and array [j] < array[j-1]:\n",
    "            print(f'checking array [{j}] vs .arry [{j+1}] | {array[j]} vs. {array[j+1]}')\n",
    "            swap(array,j,j-1)\n",
    "            j -= 1\n",
    "            \n",
    "my_list = [30, 21, 38,4 ,77 ,345]\n",
    "insertionSort(my_list)\n",
    "my_list"
   ]
  },
  {
   "cell_type": "markdown",
   "metadata": {},
   "source": [
    "## Merge Sort"
   ]
  },
  {
   "cell_type": "markdown",
   "metadata": {},
   "source": [
    "#### How it Works"
   ]
  },
  {
   "cell_type": "code",
   "execution_count": null,
   "metadata": {},
   "outputs": [],
   "source": []
  },
  {
   "cell_type": "markdown",
   "metadata": {},
   "source": [
    "# Binary Search\n",
    "\n",
    "The Binary Search algorithm works by finding the number in the middle of a given array and comparing it to the target. Given that the array is sorted\n",
    "\n",
    "* The worst case run time for this algorithm is `O(log(n))`"
   ]
  },
  {
   "cell_type": "code",
   "execution_count": null,
   "metadata": {},
   "outputs": [],
   "source": []
  },
  {
   "cell_type": "markdown",
   "metadata": {},
   "source": [
    "# Exercises"
   ]
  },
  {
   "cell_type": "markdown",
   "metadata": {},
   "source": [
    "### Exercise #1 <br>\n",
    "<p>Reverse the list below in-place using an in-place algorithm.<br>For extra credit: Reverse the strings at the same time.</p>"
   ]
  },
  {
   "cell_type": "code",
   "execution_count": 43,
   "metadata": {},
   "outputs": [
    {
     "name": "stdout",
     "output_type": "stream",
     "text": [
      "['this', 'is', 'a', 'sentence', '.']\n",
      "left:0, right:-1 | ['this', 'is', 'a', 'sentence', '.']\n",
      "left:1, right:-2 | ['.', 'is', 'a', 'sentence', 'this']\n"
     ]
    }
   ],
   "source": [
    "words = ['this' , 'is', 'a', 'sentence', '.']\n",
    "\n",
    "def reverselist(a_list):\n",
    "    left =  0\n",
    "    right = -1\n",
    "    while left < len(a_list)//2:\n",
    "        print(f'left:{left}, right:{right} | {a_list}')\n",
    "        a_list[left], a_list[right] = a_list[right], a_list[left]\n",
    "        left += 1\n",
    "        right -= 1\n",
    "print(words)\n",
    "reverselist(words)"
   ]
  },
  {
   "cell_type": "markdown",
   "metadata": {},
   "source": [
    "### Exercise #2 <br>\n",
    "<p>Create a function that counts how many distinct words are in the string below, then outputs a dictionary with the words as the key and the value as the amount of times that word appears in the string.<br>Should output:<br>{'a': 5,<br>\n",
    " 'abstract': 1,<br>\n",
    " 'an': 3,<br>\n",
    " 'array': 2, ... etc...</p>"
   ]
  },
  {
   "cell_type": "code",
   "execution_count": 78,
   "metadata": {},
   "outputs": [
    {
     "name": "stdout",
     "output_type": "stream",
     "text": [
      "28\n",
      "{'d', 'p', ',', 'g', 'f', 'r', '.', 'm', 'k', ' ', 'b', 's', 'v', 'a', 'y', 't', 'n', 'h', 'u', 'i', 'c', 'w', 'o', 'e', 'l', 'A', 'I', 'x'}\n"
     ]
    },
    {
     "data": {
      "text/plain": [
       "<function __main__.<lambda>(word)>"
      ]
     },
     "execution_count": 78,
     "metadata": {},
     "output_type": "execute_result"
    }
   ],
   "source": [
    "a_text = 'In computing, a hash table hash map is a data structure which implements an associative array abstract data type, a structure that can map keys to values. A hash table uses a hash function to compute an index into an array of buckets or slots from which the desired value can be found'\n",
    "\n",
    "\n",
    "cntrlf= set(a_text)\n",
    "results =len(cntrlf)\n",
    "\n",
    "print(results)\n",
    "print(cntrlf)\n",
    "\n",
    "#wordcount = {}\n",
    "#def exercise2(text):\n",
    " #   for key,value in wordcount.items():\n",
    "  #      wordcount.add(key,value)\n",
    "   # return wordcount\n",
    "\n",
    "#exercise2(a_text)\n",
    "\n",
    "#first attempt \n",
    "#need a function to count the strings in a_text\n",
    "#def countwords(text):\n",
    "   # count = 0\n",
    "   # for strings in text:\n",
    "       # count +=len(text)\n",
    "       # return count\n",
    "#countwords(a_text) #counts the number of characters in the string \n",
    "#need to put number of strings and string in a dictionary. Maybe use a set? \n",
    "\n",
    "\n",
    "#third attempt\n",
    "\n",
    "#lambda word: len([x for x in word if x in a_text])\n"
   ]
  },
  {
   "cell_type": "markdown",
   "metadata": {},
   "source": [
    "## Exercise #3\n",
    "\n",
    "Write a program to implement a Linear Search Algorithm. Also in a comment, write the Time Complexity of the following algorithm.\n",
    "\n",
    "#### Hint: Linear Searching will require searching a list for a given number. "
   ]
  },
  {
   "cell_type": "code",
   "execution_count": 77,
   "metadata": {},
   "outputs": [
    {
     "ename": "IndentationError",
     "evalue": "expected an indented block (<ipython-input-77-5c89f3c35196>, line 14)",
     "output_type": "error",
     "traceback": [
      "\u001b[1;36m  File \u001b[1;32m\"<ipython-input-77-5c89f3c35196>\"\u001b[1;36m, line \u001b[1;32m14\u001b[0m\n\u001b[1;33m    return(current_index)\u001b[0m\n\u001b[1;37m    ^\u001b[0m\n\u001b[1;31mIndentationError\u001b[0m\u001b[1;31m:\u001b[0m expected an indented block\n"
     ]
    }
   ],
   "source": [
    "#basically you are creating you own version of the index() function. \n",
    "#return value or string ,, or true of false\n",
    "\n",
    "a= array([1,3,6,5,8,9])\n",
    "\n",
    "\n",
    "    #for(start to end of array)\n",
    "       # if(current_element equals to )\n",
    "        #print(current_index);\n",
    "        \n",
    "def index2():\n",
    "    for i in a:\n",
    "        if i == array([]):\n",
    "        return(current_index)\n",
    "    "
   ]
  }
 ],
 "metadata": {
  "kernelspec": {
   "display_name": "Python 3",
   "language": "python",
   "name": "python3"
  },
  "language_info": {
   "codemirror_mode": {
    "name": "ipython",
    "version": 3
   },
   "file_extension": ".py",
   "mimetype": "text/x-python",
   "name": "python",
   "nbconvert_exporter": "python",
   "pygments_lexer": "ipython3",
   "version": "3.8.8"
  }
 },
 "nbformat": 4,
 "nbformat_minor": 2
}
